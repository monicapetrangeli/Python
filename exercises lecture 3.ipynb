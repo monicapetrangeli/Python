{
  "cells": [
    {
      "cell_type": "markdown",
      "id": "24b98369-c7ba-450b-a8b5-e34319000695",
      "metadata": {
        "editable": true,
        "id": "24b98369-c7ba-450b-a8b5-e34319000695",
        "tags": []
      },
      "source": [
        "# Python for Data Science\n",
        "## Session 3\n",
        "### Object Oriented Programming"
      ]
    },
    {
      "cell_type": "markdown",
      "id": "3ace1343-d73d-466d-aa07-56febbb7cbf1",
      "metadata": {
        "editable": true,
        "id": "3ace1343-d73d-466d-aa07-56febbb7cbf1",
        "tags": []
      },
      "source": [
        "---"
      ]
    },
    {
      "cell_type": "markdown",
      "id": "c5ffee69-5d4d-4f1c-9ed7-083afbc931ec",
      "metadata": {
        "editable": true,
        "id": "c5ffee69-5d4d-4f1c-9ed7-083afbc931ec",
        "tags": []
      },
      "source": [
        "## Outline\n",
        "1. Classes and objects\n",
        "2. Abstraction and Inheritance\n",
        "3. Polymorphism and Encapsulation"
      ]
    },
    {
      "cell_type": "markdown",
      "id": "aba315f4-e9bf-4a66-b3d3-593037c3ca70",
      "metadata": {
        "editable": true,
        "id": "aba315f4-e9bf-4a66-b3d3-593037c3ca70",
        "tags": []
      },
      "source": [
        "---"
      ]
    },
    {
      "cell_type": "markdown",
      "id": "8ed45dcb-2cf5-4bfa-ba6e-5da25c59757c",
      "metadata": {
        "editable": true,
        "id": "8ed45dcb-2cf5-4bfa-ba6e-5da25c59757c",
        "tags": []
      },
      "source": [
        "## Object Oriented programming\n",
        "\n",
        "In Data science there are three different types of programming paradigms:\n",
        "\n",
        "1. **Object-oriented programming** organizes code using objects that represent real-world entities. It provides modularity, code reuse and abstraction, making it suitable for handling large and complex applications.\n",
        "\n",
        "2. **Functional programming** emphasizes the use of **pure functions** that can be easily composed and reused, ideal for transforming data.\n",
        "\n",
        "3. **Declarative programming** consists in specifyin what the program should accomplish, rather than how to accomplish it.\n",
        "\n"
      ]
    },
    {
      "cell_type": "markdown",
      "id": "42f9f227-0941-4967-9a4b-c282bb0e4cfc",
      "metadata": {
        "editable": true,
        "id": "42f9f227-0941-4967-9a4b-c282bb0e4cfc",
        "tags": []
      },
      "source": [
        "**Pure functions** are functions that always produce the same output for the same input and haven't got any side effects, meaning it does not modify external states or variables."
      ]
    },
    {
      "cell_type": "markdown",
      "id": "00b01ced-eda7-423f-8522-96bd3f1a4125",
      "metadata": {
        "editable": true,
        "id": "00b01ced-eda7-423f-8522-96bd3f1a4125",
        "tags": []
      },
      "source": [
        "---"
      ]
    },
    {
      "cell_type": "markdown",
      "id": "9434c993-aac1-4655-bf69-477b9dc5d2ee",
      "metadata": {
        "editable": true,
        "id": "9434c993-aac1-4655-bf69-477b9dc5d2ee",
        "tags": []
      },
      "source": [
        "## Object Oriented programming\n",
        "\n",
        "OOP main concepts are:\n",
        "\n",
        "1. **Class**: A template to create objects.\n",
        "2. **Object**: An instance of a class, representing a specific entity.\n",
        "3. **Attributes**: Properties of an object (variables within a class that define it).\n",
        "4. **Methods**: Actions that objects can perform (functions within a class)."
      ]
    },
    {
      "cell_type": "code",
      "execution_count": null,
      "id": "1e350f15-ae19-4323-a1c6-25d80118a5f3",
      "metadata": {
        "editable": true,
        "id": "1e350f15-ae19-4323-a1c6-25d80118a5f3",
        "tags": []
      },
      "outputs": [],
      "source": [
        "class Pet:\n",
        "    pass  # Empty class as a placeholder"
      ]
    },
    {
      "cell_type": "code",
      "execution_count": null,
      "id": "2e427c6d-a0fc-47de-a6e8-de71ae500619",
      "metadata": {
        "editable": true,
        "id": "2e427c6d-a0fc-47de-a6e8-de71ae500619",
        "tags": []
      },
      "outputs": [],
      "source": [
        "my_pet = Pet() # Instance of a class"
      ]
    },
    {
      "cell_type": "code",
      "execution_count": null,
      "id": "1cda9d57-aedb-4e70-af5b-7193174a2430",
      "metadata": {
        "editable": true,
        "id": "1cda9d57-aedb-4e70-af5b-7193174a2430",
        "tags": []
      },
      "outputs": [],
      "source": [
        "# Note: self refers to the instance of the class and is used to access its attributes and methods\n",
        "class Pet:\n",
        "    def __init__(self, name): # constructor\n",
        "        self.name = name"
      ]
    },
    {
      "cell_type": "code",
      "execution_count": null,
      "id": "c4f13ca9-dd0a-4b53-8f30-5a507979b1ed",
      "metadata": {
        "editable": true,
        "id": "c4f13ca9-dd0a-4b53-8f30-5a507979b1ed",
        "tags": []
      },
      "outputs": [],
      "source": [
        "class Pet:\n",
        "    def __init__(self, name): # constructor\n",
        "        self.name = name # Instance attribute\n",
        "        self.age = None # Instance attribute set to None\n",
        "\n",
        "    def set_age(self, age): # Method\n",
        "        self.age = age"
      ]
    },
    {
      "cell_type": "markdown",
      "id": "92887f1e-c2b9-4abc-9324-af4c15250c3a",
      "metadata": {
        "editable": true,
        "id": "92887f1e-c2b9-4abc-9324-af4c15250c3a",
        "tags": []
      },
      "source": [
        "---"
      ]
    },
    {
      "cell_type": "markdown",
      "id": "d6c81e01-e268-4490-b970-b9f3d7a08d30",
      "metadata": {
        "editable": true,
        "id": "d6c81e01-e268-4490-b970-b9f3d7a08d30",
        "tags": []
      },
      "source": [
        "## Object Oriented programming\n",
        "### Abstraction\n",
        "\n",
        "Abstraction consists in hiding any variables and internal parts of an object that don’t need to be shown during interaction. Making only available the essential functionalities.\n",
        "\n",
        "You may want to call a method from an object that searches for something in an internal list, and in this case, you don't need to see the algorithm behind it, you just need to call the method and get what you want."
      ]
    },
    {
      "cell_type": "markdown",
      "id": "23e1e6b4-322a-4cd5-8a82-72877cc98804",
      "metadata": {
        "editable": true,
        "id": "23e1e6b4-322a-4cd5-8a82-72877cc98804",
        "tags": []
      },
      "source": [
        "## Object Oriented programming\n",
        "### Inheritance\n",
        "\n",
        "Inheritance permits any class to inherit attributes and methods from another class. This reduces code duplication and enables the creation of specialized classes based on general ones."
      ]
    },
    {
      "cell_type": "code",
      "execution_count": null,
      "id": "76c58110-a965-432f-8dcf-f457079fec65",
      "metadata": {
        "editable": true,
        "id": "76c58110-a965-432f-8dcf-f457079fec65",
        "tags": []
      },
      "outputs": [],
      "source": [
        "class Pet:\n",
        "    def __init__(self, age, name): # Constructor\n",
        "        self.age = age # Attribute\n",
        "        self.name = name # Attribute\n",
        "\n",
        "    def describe(self): # Method\n",
        "        print(f\"This pet's name is {self.name}.\")\n",
        "\n",
        "class Dog(Pet):\n",
        "    def __init__(self, age, name, breed): # Constructor\n",
        "        super().__init__(age, name)  # Call the parent class's __init__ method\n",
        "        self.breed = breed # New attribute for this specialized class\n",
        "\n",
        "    def describe(self):\n",
        "        super().describe()  # Call the parent class's describe method\n",
        "        print(f\"This dog is {self.age} years old and is a {self.breed}.\")"
      ]
    },
    {
      "cell_type": "code",
      "execution_count": null,
      "id": "48301f74-ece3-49ec-9332-2c168743ebc8",
      "metadata": {
        "editable": true,
        "id": "48301f74-ece3-49ec-9332-2c168743ebc8",
        "tags": []
      },
      "outputs": [],
      "source": [
        "my_dog = Dog(3, 'Rock', 'Great Dane')"
      ]
    },
    {
      "cell_type": "code",
      "execution_count": null,
      "id": "eae7678f-665a-4916-96d2-3926a312aea5",
      "metadata": {
        "editable": true,
        "id": "eae7678f-665a-4916-96d2-3926a312aea5",
        "outputId": "3abb92a2-d911-43f9-bf4b-bb7ecdaf371f",
        "tags": []
      },
      "outputs": [],
      "source": [
        "my_dog.describe()"
      ]
    },
    {
      "cell_type": "markdown",
      "id": "220f9368-0c1a-4ac8-9785-a33b11e5df77",
      "metadata": {
        "editable": true,
        "id": "220f9368-0c1a-4ac8-9785-a33b11e5df77",
        "tags": []
      },
      "source": [
        "---"
      ]
    },
    {
      "cell_type": "markdown",
      "id": "88ff8053-d1d0-4c08-b8e5-6c84e94c4f24",
      "metadata": {
        "editable": true,
        "id": "88ff8053-d1d0-4c08-b8e5-6c84e94c4f24",
        "tags": []
      },
      "source": [
        "## Object Oriented programming\n",
        "### Polymorphism\n",
        "\n",
        "It allows the same method name to behave differently based on the object calling it, which can be achieved through method overriding."
      ]
    },
    {
      "cell_type": "code",
      "execution_count": null,
      "id": "db4cd9e2-0188-4511-a81b-070221d74af5",
      "metadata": {
        "editable": true,
        "id": "db4cd9e2-0188-4511-a81b-070221d74af5",
        "tags": []
      },
      "outputs": [],
      "source": [
        "class Cat(Pet):\n",
        "    def __init__(self, age, name, breed): # Constructor\n",
        "        super().__init__(age, name)  # Call the parent class's __init__ method\n",
        "        self.breed = breed # New attribute for this specialized class\n",
        "\n",
        "    def describe(self): # Method\n",
        "        print(f\"This super cat is {self.age} years old and is a {self.breed}.\")"
      ]
    },
    {
      "cell_type": "code",
      "execution_count": null,
      "id": "ced1143b-98db-46db-8e90-fed185aad835",
      "metadata": {
        "editable": true,
        "id": "ced1143b-98db-46db-8e90-fed185aad835",
        "outputId": "3c3d99c3-5191-40d9-a25c-9d4516c6ca93",
        "tags": []
      },
      "outputs": [],
      "source": [
        "my_cat = Cat(7, 'Bella', 'Siamese')\n",
        "my_cat.describe()"
      ]
    },
    {
      "cell_type": "markdown",
      "id": "cd327548-f048-4d39-9b72-6dff6cd6963d",
      "metadata": {
        "editable": true,
        "id": "cd327548-f048-4d39-9b72-6dff6cd6963d",
        "tags": []
      },
      "source": [
        "---"
      ]
    },
    {
      "cell_type": "markdown",
      "id": "854b31bb-2b21-42fd-939a-f82f71a549f0",
      "metadata": {
        "editable": true,
        "id": "854b31bb-2b21-42fd-939a-f82f71a549f0",
        "tags": []
      },
      "source": [
        "## Object Oriented programming\n",
        "### Encapsulation\n",
        "\n",
        "It consists in restricting access to variables and methods outside the object. This way we ensure the integrity of the data within the object.\n",
        "\n",
        "In python, prefixing a variable or method name with an underscore **_** indicates that it is intended for internal use only, while a double underscore **__** modifies the variable name for better encapsulation.\n",
        "\n",
        "It is worth mentioning that this is a convention, and variables and methods are still accessible."
      ]
    },
    {
      "cell_type": "code",
      "execution_count": null,
      "id": "33e1bdf2-8798-41f1-9ed3-957c730dc9ad",
      "metadata": {
        "editable": true,
        "id": "33e1bdf2-8798-41f1-9ed3-957c730dc9ad",
        "tags": []
      },
      "outputs": [],
      "source": [
        "class Student:\n",
        "    def __init__(self, name, age, address=None):\n",
        "        self.name = name # Public attribute\n",
        "        self._age =   age # Private attribute\n",
        "        self._address = address  # Private attribute\n",
        "\n",
        "    def get_address(self): # Method\n",
        "        return self._address\n",
        "\n",
        "    def set_address(self, address): # Method\n",
        "        address = ''.join(filter(self._remove_special_characters, address))\n",
        "        self._address = address\n",
        "\n",
        "    def _remove_special_characters(self, character): # Private method\n",
        "        if character.isalnum() or character == ' ' or character == '-':\n",
        "            return True\n",
        "        else:\n",
        "            return False\n"
      ]
    },
    {
      "cell_type": "code",
      "execution_count": null,
      "id": "a4e46c71-63e9-474e-91a6-9d9a323636dc",
      "metadata": {
        "editable": true,
        "id": "a4e46c71-63e9-474e-91a6-9d9a323636dc",
        "outputId": "f3fdcc29-3661-46e6-e645-397a94c9874c",
        "tags": []
      },
      "outputs": [],
      "source": [
        "student = Student(\"Joan\", 24)\n",
        "student.set_address(\"Avinguda Buenos Aires nº 31! 7e-1a\")\n",
        "print(f\"The student named {student.name} has the following address: {student.get_address()}\")"
      ]
    },
    {
      "cell_type": "markdown",
      "id": "f4552012-e0e9-40af-8801-69d83733d433",
      "metadata": {
        "editable": true,
        "id": "f4552012-e0e9-40af-8801-69d83733d433",
        "tags": []
      },
      "source": [
        "---"
      ]
    },
    {
      "cell_type": "markdown",
      "id": "42f8be9a-cc71-4a58-97ac-1a54219a2d72",
      "metadata": {
        "editable": true,
        "id": "42f8be9a-cc71-4a58-97ac-1a54219a2d72",
        "tags": []
      },
      "source": [
        "## Object Oriented programming\n",
        "### Hands on\n",
        "\n",
        "Let's design a course registration system, where the requirements will be:\n",
        "\n",
        "1. Create a **Course** class, where each course has a name, a description and a list of enrolled students. You'll need to implement the next methods:\n",
        "    - Add a student to the course.\n",
        "    - Remove a student from the course.\n",
        "    - Show all students in the course."
      ]
    },
    {
      "cell_type": "code",
      "execution_count": 1,
      "id": "48c79c69",
      "metadata": {},
      "outputs": [],
      "source": [
        "class Course:\n",
        "    def __init__(self, name, course_type):\n",
        "        self.name=name\n",
        "        self.course_type=course_type\n",
        "        self.students=dict()\n",
        "        self.grades=dict()\n",
        "\n",
        "    def add_student(self, student):\n",
        "        if student not in self.students:\n",
        "            self.students[student]=student.id\n",
        "        else:\n",
        "            return (f'{student} is already enrolled in this course')\n",
        "    \n",
        "    def remove_student(self,student):\n",
        "        if student in self.students:\n",
        "            self.students.pop(student)\n",
        "        else:\n",
        "            return (f'{student} is not enrolled in this course')\n",
        "    \n",
        "    def definition(self):\n",
        "        return(f'{self.name} is a {self.course_type} course type with the following students: {self.students}')\n",
        "    \n",
        "    def __repr__(self): \n",
        "        return f\"{self.name}\""
      ]
    },
    {
      "cell_type": "code",
      "execution_count": 3,
      "id": "c0a192ce",
      "metadata": {},
      "outputs": [
        {
          "data": {
            "text/plain": [
              "{Feyre Archeon: 597890}"
            ]
          },
          "execution_count": 3,
          "metadata": {},
          "output_type": "execute_result"
        }
      ],
      "source": [
        "python=Course('Python','programming')\n",
        "Feyre=Student('Feyre Archeon',597890)\n",
        "Cassian=Student('Cassian Night',496211)\n",
        "Rhysand=Student('Rhysand',900235)\n",
        "python.add_student(Feyre)\n",
        "python.students"
      ]
    },
    {
      "cell_type": "code",
      "execution_count": 4,
      "id": "e4c97829",
      "metadata": {},
      "outputs": [
        {
          "data": {
            "text/plain": [
              "{Feyre Archeon: 597890, Rhysand: 900235, Cassian Night: 496211}"
            ]
          },
          "execution_count": 4,
          "metadata": {},
          "output_type": "execute_result"
        }
      ],
      "source": [
        "python.add_student(Rhysand)\n",
        "python.add_student(Cassian)\n",
        "python.students"
      ]
    },
    {
      "cell_type": "code",
      "execution_count": 6,
      "id": "01fd7c62",
      "metadata": {},
      "outputs": [
        {
          "data": {
            "text/plain": [
              "{Feyre Archeon: 597890, Rhysand: 900235}"
            ]
          },
          "execution_count": 6,
          "metadata": {},
          "output_type": "execute_result"
        }
      ],
      "source": [
        "python.remove_student(Cassian)\n",
        "python.students"
      ]
    },
    {
      "cell_type": "code",
      "execution_count": 7,
      "id": "edca7b3d",
      "metadata": {},
      "outputs": [
        {
          "data": {
            "text/plain": [
              "'Python is a programming course type with the following students: {Feyre Archeon: 597890, Rhysand: 900235}'"
            ]
          },
          "execution_count": 7,
          "metadata": {},
          "output_type": "execute_result"
        }
      ],
      "source": [
        "python.definition()\n"
      ]
    },
    {
      "cell_type": "markdown",
      "id": "16cc578c-9fe3-4478-81da-3071e3adb318",
      "metadata": {
        "editable": true,
        "id": "16cc578c-9fe3-4478-81da-3071e3adb318",
        "tags": []
      },
      "source": [
        "## Object Oriented programming\n",
        "### Hands on\n",
        "\n",
        "2. Create a **Student** class, where each student has a name, ID number, address and a list of enrolled courses with the following methods:\n",
        "    - Enroll in a course.\n",
        "    - Drop a course.\n",
        "    - Show all registered student courses."
      ]
    },
    {
      "cell_type": "code",
      "execution_count": 8,
      "id": "fe4cce31-1ddf-4847-bc8d-924dc3e0dfe1",
      "metadata": {
        "editable": true,
        "id": "fe4cce31-1ddf-4847-bc8d-924dc3e0dfe1",
        "tags": []
      },
      "outputs": [],
      "source": [
        "class Student:\n",
        "    def __init__(self, name, student_id):\n",
        "        self.name=name\n",
        "        self.id=student_id\n",
        "        self.courses=list()\n",
        "        \n",
        "    def get_address(self,address):\n",
        "        self.address=address\n",
        "    \n",
        "    def enroll_course(self,course):\n",
        "        if course not in self.courses:\n",
        "            return self.courses.append(course)\n",
        "        else:\n",
        "            return ('you are already enrolled in this course')\n",
        "    \n",
        "    def drop_course(self,course):\n",
        "        if course in self.courses:\n",
        "            return self.courses.remove(course)\n",
        "        else:\n",
        "            return('you are not enrolled in this course')\n",
        "    \n",
        "    def registration(self):\n",
        "        return (f'{self.name} is enrolled in the following courses: {self.courses}')\n",
        "    \n",
        "    def __repr__(self): \n",
        "        return f\"{self.name}\"\n"
      ]
    },
    {
      "cell_type": "code",
      "execution_count": 9,
      "id": "1745726d",
      "metadata": {},
      "outputs": [
        {
          "data": {
            "text/plain": [
              "\"Feyre Archeon is enrolled in the following courses: ['Archery', 'Literature', 'Art']\""
            ]
          },
          "execution_count": 9,
          "metadata": {},
          "output_type": "execute_result"
        }
      ],
      "source": [
        "Feyre.get_address('Carrer de le Industria 387')\n",
        "Feyre.enroll_course('Archery')\n",
        "Feyre.enroll_course('Literature')\n",
        "Feyre.enroll_course('Art')\n",
        "\n",
        "Feyre.registration()"
      ]
    },
    {
      "cell_type": "markdown",
      "id": "5c54b2fe-691f-4520-b8d6-2515ba92b808",
      "metadata": {
        "editable": true,
        "id": "5c54b2fe-691f-4520-b8d6-2515ba92b808",
        "tags": []
      },
      "source": [
        "## Object Oriented programming\n",
        "### Hands on\n",
        "\n",
        "3. Create a central class that manages courses and students, **Registration** class, where you have a list of students and a list of courses, and methods:\n",
        "    - Enroll in a course.\n",
        "    - Drop a course.\n",
        "    - Show all the enrolled courses.\n",
        "    - Show all the students."
      ]
    },
    {
      "cell_type": "code",
      "execution_count": 10,
      "id": "863f30c7-3cf8-4ac9-8599-e7df8e0d483c",
      "metadata": {
        "editable": true,
        "id": "863f30c7-3cf8-4ac9-8599-e7df8e0d483c",
        "tags": []
      },
      "outputs": [],
      "source": [
        "class Registration:\n",
        "    def __init__(self):\n",
        "        self.students=dict()\n",
        "        self.courses=set()\n",
        "    \n",
        "    def enroll_course(self,course, student):\n",
        "        student.enroll_course(course)\n",
        "        course.add_student(student)\n",
        "        self.courses.add(course)\n",
        "        self.students[student]=student.id\n",
        "    \n",
        "    def drop_course(self,course, student):\n",
        "        student.drop_course(course)\n",
        "        course.remove_student(student)\n",
        "        self.courses.remove(course)\n",
        "        self.students.pop(student)\n",
        "    \n",
        "    def all_courses(self):\n",
        "        print(self.courses)\n",
        "    \n",
        "    def all_students(self):\n",
        "        print(self.students)\n"
      ]
    },
    {
      "cell_type": "code",
      "execution_count": 27,
      "id": "b0d5b709",
      "metadata": {},
      "outputs": [],
      "source": [
        "Archery=Course('Archery','physical')\n",
        "Art=Course('Art','creative')"
      ]
    },
    {
      "cell_type": "code",
      "execution_count": 28,
      "id": "b5b160f2",
      "metadata": {},
      "outputs": [
        {
          "data": {
            "text/plain": [
              "{Feyre Archeon: 597890, Cassian Night: 496211}"
            ]
          },
          "execution_count": 28,
          "metadata": {},
          "output_type": "execute_result"
        }
      ],
      "source": [
        "MIBA=Registration()\n",
        "MIBA.enroll_course(Archery,Feyre)\n",
        "MIBA.enroll_course(Archery,Cassian)\n",
        "MIBA.enroll_course(Art,Feyre)\n",
        "\n",
        "Archery.students\n",
        "Archery.students"
      ]
    },
    {
      "cell_type": "code",
      "execution_count": 47,
      "id": "9a9d8561",
      "metadata": {},
      "outputs": [
        {
          "name": "stdout",
          "output_type": "stream",
          "text": [
            "{Archery, Art}\n"
          ]
        },
        {
          "data": {
            "text/plain": [
              "{Feyre Archeon: 597890, Cassian Night: 496211}"
            ]
          },
          "execution_count": 47,
          "metadata": {},
          "output_type": "execute_result"
        }
      ],
      "source": [
        "MIBA.all_courses()\n",
        "Archery.students"
      ]
    },
    {
      "cell_type": "markdown",
      "id": "2958b01b-3472-4c95-ae1f-771edc638749",
      "metadata": {
        "editable": true,
        "id": "2958b01b-3472-4c95-ae1f-771edc638749",
        "tags": []
      },
      "source": [
        "## Object Oriented programming\n",
        "### Howework\n",
        "\n",
        "4. Let's add grades to each student's course and create method that yields the GPA given a student name or ID."
      ]
    },
    {
      "cell_type": "code",
      "execution_count": 53,
      "id": "c9bf9437",
      "metadata": {},
      "outputs": [],
      "source": [
        "class Grade:\n",
        "    def __init__(self):\n",
        "        self.grades=dict()\n",
        "\n",
        "    def set_grade(self,course,student_ID,grade):\n",
        "        if student_ID in course.students.values():\n",
        "            if student_ID not in self.grades:\n",
        "                    self.grades[student_ID]={}\n",
        "            self.grades[student_ID][course]=grade\n",
        "            course.grades[student_ID]=grade\n",
        "        else:\n",
        "            return 'the student is not enrolled in the course'\n",
        "        \n",
        "    def retrieve_grade(self,course,student_ID):\n",
        "        if student_ID in self.grades and course in self.grades[student_ID]:\n",
        "            return self.grades[student_ID][course]\n",
        "        else:\n",
        "            return 'grade not found'\n",
        "    \n",
        "    def get_GPA(self,student):\n",
        "        if student.id not in self.grades:\n",
        "            return 'no grades have been registered for this student'\n",
        "        final_grade=0\n",
        "        courses=0\n",
        "        for course in self.grades[student.id]:\n",
        "            final_grade+=self.grades[student.id][course]\n",
        "            courses+=1\n",
        "        gpa=final_grade/courses\n",
        "        return f'{student.name} has a GPA of {gpa}'"
      ]
    },
    {
      "cell_type": "code",
      "execution_count": 54,
      "id": "1c23fe65",
      "metadata": {},
      "outputs": [
        {
          "data": {
            "text/plain": [
              "8"
            ]
          },
          "execution_count": 54,
          "metadata": {},
          "output_type": "execute_result"
        }
      ],
      "source": [
        "grade=Grade()\n",
        "grade.set_grade(python,Feyre.id,8)\n",
        "grade.retrieve_grade(python,Feyre.id)"
      ]
    },
    {
      "cell_type": "code",
      "execution_count": 55,
      "id": "becd7cc3",
      "metadata": {},
      "outputs": [
        {
          "data": {
            "text/plain": [
              "'Feyre Archeon has a GPA of 9.333333333333334'"
            ]
          },
          "execution_count": 55,
          "metadata": {},
          "output_type": "execute_result"
        }
      ],
      "source": [
        "grade.set_grade(Archery,Feyre.id,10)\n",
        "grade.set_grade(Art,Feyre.id,10)\n",
        "grade.get_GPA(Feyre)"
      ]
    },
    {
      "cell_type": "markdown",
      "id": "76c565a9-dc30-464c-980d-d522cd5246f4",
      "metadata": {
        "editable": true,
        "id": "76c565a9-dc30-464c-980d-d522cd5246f4",
        "tags": []
      },
      "source": [
        "## That's all!"
      ]
    }
  ],
  "metadata": {
    "colab": {
      "provenance": []
    },
    "kernelspec": {
      "display_name": "base",
      "language": "python",
      "name": "python3"
    },
    "language_info": {
      "codemirror_mode": {
        "name": "ipython",
        "version": 3
      },
      "file_extension": ".py",
      "mimetype": "text/x-python",
      "name": "python",
      "nbconvert_exporter": "python",
      "pygments_lexer": "ipython3",
      "version": "3.12.4"
    }
  },
  "nbformat": 4,
  "nbformat_minor": 5
}
